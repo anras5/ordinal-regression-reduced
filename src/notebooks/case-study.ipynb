{
 "cells": [
  {
   "cell_type": "markdown",
   "id": "1f499d92-a330-4fc0-8a72-59d06883b0e6",
   "metadata": {},
   "source": [
    "# Setup"
   ]
  },
  {
   "cell_type": "code",
   "execution_count": 14,
   "id": "963e768f-bcc9-4264-b73f-14de3ee05b5a",
   "metadata": {},
   "outputs": [],
   "source": [
    "from pathlib import Path\n",
    "import sys\n",
    "import os\n",
    "\n",
    "import numpy as np\n",
    "import pandas as pd\n",
    "from sklearn.decomposition import PCA, KernelPCA\n",
    "from sklearn.manifold import Isomap\n",
    "from sklearn.pipeline import Pipeline\n",
    "from sklearn.preprocessing import StandardScaler\n",
    "from hassediagram.hasse_diagram import hasse_graphviz\n",
    "\n",
    "\n",
    "sys.path.append(str(Path(os.getcwd()).parent))\n",
    "from mcda.dataset import MCDADataset\n",
    "from mcda.uta import Criterion, calculate_uta_gms\n",
    "from methods.autoencoder import DominanceAutoEncoder\n",
    "from methods.mvu import MaximumVarianceUnfolding"
   ]
  },
  {
   "cell_type": "code",
   "execution_count": 15,
   "id": "829f1ff8-f932-4256-863b-93e654335a46",
   "metadata": {},
   "outputs": [],
   "source": [
    "def get_methods(n: int) -> dict:\n",
    "    \"\"\"\n",
    "    Get a dictionary of methods for dimensionality reduction.\n",
    "\n",
    "    Parameters\n",
    "    ----------\n",
    "    n (int): Number of components for the methods.\n",
    "\n",
    "    Returns\n",
    "    -------\n",
    "    dict: Dictionary of methods.\n",
    "\n",
    "    \"\"\"\n",
    "    return {\n",
    "        \"PCA\": Pipeline([(\"scaler\", StandardScaler()), (\"pca\", PCA(n_components=n, random_state=42))]),\n",
    "        \"KernelPCA\": Pipeline([(\"scaler\", StandardScaler()), (\"kpca\", KernelPCA(n_components=n, random_state=42))]),\n",
    "        \"Isomap\": Pipeline([(\"scaler\", StandardScaler()), (\"isomap\", Isomap(n_components=n))]),\n",
    "        \"MVU\": Pipeline([(\"scaler\", StandardScaler()), (\"mvu\", MaximumVarianceUnfolding(n_components=n, seed=42))]),\n",
    "        \"DAE\": Pipeline(\n",
    "            [\n",
    "                (\"scaler\", StandardScaler()),\n",
    "                (\"dae\", DominanceAutoEncoder(latent_dim=n, num_epochs=1000, random_state=42, verbose=False)),\n",
    "            ]\n",
    "        ),\n",
    "    }"
   ]
  },
  {
   "cell_type": "markdown",
   "id": "10dbbf0a-10ec-480c-962d-8523039d2eae",
   "metadata": {},
   "source": [
    "# Preferences"
   ]
  },
  {
   "cell_type": "code",
   "execution_count": 35,
   "id": "ac9f9fcb-1b6b-4ac5-aaf3-f6e73f0881c5",
   "metadata": {},
   "outputs": [],
   "source": [
    "preferences = {\n",
    "    1: [[('a3', 'a9')], [('a8', 'a11')], [('a6', 'a12')], [('a6', 'a11')], [('a6', 'a2')], [('a7', 'a8')], [('a1', 'a2')], [('a5', 'a8')], [('a3', 'a2')], [('a1', 'a9')]],\n",
    "    2: [[('a3', 'a9'), ('a1', 'a9')], [('a8', 'a11'), ('a4', 'a2')], [('a6', 'a12'), ('a5', 'a8')], [('a6', 'a11'), ('a1', 'a4')], [('a6', 'a2'), ('a10', 'a5')], [('a7', 'a8'), ('a1', 'a11')], [('a1', 'a2'), ('a1', 'a7')], [('a5', 'a8'), ('a12', 'a8')], [('a3', 'a2'), ('a6', 'a4')], [('a1', 'a9'), ('a3', 'a4')]],\n",
    "    3: [[('a3', 'a9'), ('a1', 'a9'), ('a1', 'a11')], [('a8', 'a11'), ('a4', 'a2'), ('a3', 'a9')], [('a6', 'a12'), ('a5', 'a8'), ('a3', 'a9')], [('a6', 'a11'), ('a1', 'a4'), ('a6', 'a12')], [('a6', 'a2'), ('a10', 'a5'), ('a7', 'a12')], [('a7', 'a8'), ('a1', 'a11'), ('a1', 'a9')], [('a1', 'a2'), ('a1', 'a7'), ('a6', 'a9')], [('a5', 'a8'), ('a12', 'a8'), ('a6', 'a8')], [('a3', 'a2'), ('a6', 'a4'), ('a4', 'a9')], [('a1', 'a9'), ('a3', 'a4'), ('a10', 'a2')]],\n",
    "    4: [[('a3', 'a9'), ('a1', 'a9'), ('a1', 'a11'), ('a1', 'a8')], [('a8', 'a11'), ('a4', 'a2'), ('a3', 'a9'), ('a6', 'a11')], [('a6', 'a12'), ('a5', 'a8'), ('a3', 'a9'), ('a4', 'a11')], [('a6', 'a11'), ('a1', 'a4'), ('a6', 'a12'), ('a10', 'a3')], [('a6', 'a2'), ('a10', 'a5'), ('a7', 'a12'), ('a5', 'a7')], [('a7', 'a8'), ('a1', 'a11'), ('a1', 'a9'), ('a12', 'a11')], [('a1', 'a2'), ('a1', 'a7'), ('a6', 'a9'), ('a1', 'a6')], [('a5', 'a8'), ('a12', 'a8'), ('a6', 'a8'), ('a6', 'a3')], [('a3', 'a2'), ('a6', 'a4'), ('a4', 'a9'), ('a4', 'a11')], [('a1', 'a9'), ('a3', 'a4'), ('a10', 'a2'), ('a12', 'a2')]],\n",
    "    5: [[('a3', 'a9'), ('a1', 'a9'), ('a1', 'a11'), ('a1', 'a8'), ('a7', 'a3')], [('a8', 'a11'), ('a4', 'a2'), ('a3', 'a9'), ('a6', 'a11'), ('a7', 'a9')], [('a6', 'a12'), ('a5', 'a8'), ('a3', 'a9'), ('a4', 'a11'), ('a1', 'a7')], [('a6', 'a11'), ('a1', 'a4'), ('a6', 'a12'), ('a10', 'a3'), ('a10', 'a2')], [('a6', 'a2'), ('a10', 'a5'), ('a7', 'a12'), ('a5', 'a7'), ('a10', 'a3')], [('a7', 'a8'), ('a1', 'a11'), ('a1', 'a9'), ('a12', 'a11'), ('a5', 'a12')], [('a1', 'a2'), ('a1', 'a7'), ('a6', 'a9'), ('a1', 'a6'), ('a6', 'a12')], [('a5', 'a8'), ('a12', 'a8'), ('a6', 'a8'), ('a6', 'a3'), ('a4', 'a9')], [('a3', 'a2'), ('a6', 'a4'), ('a4', 'a9'), ('a4', 'a11'), ('a1', 'a7')], [('a1', 'a9'), ('a3', 'a4'), ('a10', 'a2'), ('a12', 'a2'), ('a4', 'a9')]],\n",
    "    6: [[('a3', 'a9'), ('a1', 'a9'), ('a1', 'a11'), ('a1', 'a8'), ('a7', 'a3'), ('a4', 'a2')], [('a8', 'a11'), ('a4', 'a2'), ('a3', 'a9'), ('a6', 'a11'), ('a7', 'a9'), ('a1', 'a9')], [('a6', 'a12'), ('a5', 'a8'), ('a3', 'a9'), ('a4', 'a11'), ('a1', 'a7'), ('a7', 'a11')], [('a6', 'a11'), ('a1', 'a4'), ('a6', 'a12'), ('a10', 'a3'), ('a10', 'a2'), ('a4', 'a9')], [('a6', 'a2'), ('a10', 'a5'), ('a7', 'a12'), ('a5', 'a7'), ('a10', 'a3'), ('a3', 'a8')], [('a7', 'a8'), ('a1', 'a11'), ('a1', 'a9'), ('a12', 'a11'), ('a5', 'a12'), ('a1', 'a5')], [('a1', 'a2'), ('a1', 'a7'), ('a6', 'a9'), ('a1', 'a6'), ('a6', 'a12'), ('a1', 'a5')], [('a5', 'a8'), ('a12', 'a8'), ('a6', 'a8'), ('a6', 'a3'), ('a4', 'a9'), ('a5', 'a4')], [('a3', 'a2'), ('a6', 'a4'), ('a4', 'a9'), ('a4', 'a11'), ('a1', 'a7'), ('a3', 'a8')], [('a1', 'a9'), ('a3', 'a4'), ('a10', 'a2'), ('a12', 'a2'), ('a4', 'a9'), ('a4', 'a2')]],\n",
    "}"
   ]
  },
  {
   "cell_type": "markdown",
   "id": "273679d6-eabc-4198-b73e-55e2dee9c1c7",
   "metadata": {},
   "source": [
    "# Dataset"
   ]
  },
  {
   "cell_type": "code",
   "execution_count": 36,
   "id": "45057640-f41a-4e3f-b35b-24dc277c07fc",
   "metadata": {},
   "outputs": [],
   "source": [
    "dataset: MCDADataset = MCDADataset.read_csv(\"../data/insulating-materials/dataset.csv\")"
   ]
  },
  {
   "cell_type": "markdown",
   "id": "1ee7d0d1-6c5c-4bcb-a8ae-4c3eb27e59dd",
   "metadata": {},
   "source": [
    "# Generating diagrams"
   ]
  },
  {
   "cell_type": "code",
   "execution_count": null,
   "id": "b6f6368e-9f92-4208-b5c1-2aaf5f6a4f8b",
   "metadata": {},
   "outputs": [],
   "source": [
    "for preference in [l[0] for l in preferences.values()]:\n",
    "    number_of_preference = len(preference)\n",
    "    for n in [2, 3, 4, 5, 6]:\n",
    "        for n_points in [2, 3, 4, 5, 6]:\n",
    "            methods = get_methods(n)\n",
    "            for method_name, method in methods.items():\n",
    "                transformed_data = method.fit_transform(dataset.data)\n",
    "                df_m = (\n",
    "                    pd.DataFrame(transformed_data, index=dataset.data.index, columns=range(n)).map(lambda x: f\"{x:.4f}\").astype(np.float64)\n",
    "                )\n",
    "                criteria = [Criterion(name, points=n_points) for name in df_m.columns]\n",
    "                df_utagms = calculate_uta_gms(df_m, preference, criteria)\n",
    "                dot = hasse_graphviz(df_utagms.values)\n",
    "                dot.graph_attr.update(dpi='300')\n",
    "                dot.render(filename=method_name, directory=f\"../data/insulating-materials/output/preferences_{number_of_preference}/diagrams/dim_{n}\", format=\"png\", cleanup=True)"
   ]
  },
  {
   "cell_type": "code",
   "execution_count": 38,
   "id": "82a4443c-dcfd-4377-b87c-a5a493287f71",
   "metadata": {},
   "outputs": [
    {
     "ename": "FileNotFoundError",
     "evalue": "[Errno 2] No such file or directory: './data/insulating-materials/dataset.csv'",
     "output_type": "error",
     "traceback": [
      "\u001b[31m---------------------------------------------------------------------------\u001b[39m",
      "\u001b[31mFileNotFoundError\u001b[39m                         Traceback (most recent call last)",
      "\u001b[36mCell\u001b[39m\u001b[36m \u001b[39m\u001b[32mIn[38]\u001b[39m\u001b[32m, line 1\u001b[39m\n\u001b[32m----> \u001b[39m\u001b[32m1\u001b[39m dataset: MCDADataset = \u001b[43mMCDADataset\u001b[49m\u001b[43m.\u001b[49m\u001b[43mread_csv\u001b[49m\u001b[43m(\u001b[49m\u001b[33;43m\"\u001b[39;49m\u001b[33;43m./data/insulating-materials/dataset.csv\u001b[39;49m\u001b[33;43m\"\u001b[39;49m\u001b[43m)\u001b[49m\n\u001b[32m      3\u001b[39m df_domination = get_domination_df(n_components, dataset)\n\u001b[32m      4\u001b[39m preferences_list = [df_domination.index.to_series().sample(\u001b[32m2\u001b[39m, random_state=i).tolist() \u001b[38;5;28;01mfor\u001b[39;00m i \u001b[38;5;129;01min\u001b[39;00m \u001b[38;5;28mrange\u001b[39m(\u001b[32m10\u001b[39m)]\n",
      "\u001b[36mFile \u001b[39m\u001b[32m/app/mcda/dataset.py:26\u001b[39m, in \u001b[36mMCDADataset.read_csv\u001b[39m\u001b[34m(filepath, convert_to_gain)\u001b[39m\n\u001b[32m     21\u001b[39m \u001b[38;5;129m@staticmethod\u001b[39m\n\u001b[32m     22\u001b[39m \u001b[38;5;28;01mdef\u001b[39;00m\u001b[38;5;250m \u001b[39m\u001b[34mread_csv\u001b[39m(filepath: \u001b[38;5;28mstr\u001b[39m, convert_to_gain: \u001b[38;5;28mbool\u001b[39m = \u001b[38;5;28;01mTrue\u001b[39;00m) -> (pd.DataFrame, List[Criterion]):\n\u001b[32m     23\u001b[39m \u001b[38;5;250m    \u001b[39m\u001b[33;03m\"\"\"\u001b[39;00m\n\u001b[32m     24\u001b[39m \u001b[33;03m    Reads a csv file and converts it into a pandas dataframe (performances) and criteria list.\u001b[39;00m\n\u001b[32m     25\u001b[39m \u001b[33;03m    \"\"\"\u001b[39;00m\n\u001b[32m---> \u001b[39m\u001b[32m26\u001b[39m     df = \u001b[43mpd\u001b[49m\u001b[43m.\u001b[49m\u001b[43mread_csv\u001b[49m\u001b[43m(\u001b[49m\u001b[43mfilepath\u001b[49m\u001b[43m,\u001b[49m\u001b[43m \u001b[49m\u001b[43mskiprows\u001b[49m\u001b[43m=\u001b[49m\u001b[32;43m2\u001b[39;49m\u001b[43m,\u001b[49m\u001b[43m \u001b[49m\u001b[43msep\u001b[49m\u001b[43m=\u001b[49m\u001b[33;43m\"\u001b[39;49m\u001b[33;43m;\u001b[39;49m\u001b[33;43m\"\u001b[39;49m\u001b[43m,\u001b[49m\u001b[43m \u001b[49m\u001b[43mindex_col\u001b[49m\u001b[43m=\u001b[49m\u001b[32;43m0\u001b[39;49m\u001b[43m)\u001b[49m.astype(\u001b[38;5;28mfloat\u001b[39m)\n\u001b[32m     27\u001b[39m     types = [t.strip().startswith(\u001b[33m\"\u001b[39m\u001b[33mg\u001b[39m\u001b[33m\"\u001b[39m) \u001b[38;5;28;01mfor\u001b[39;00m t \u001b[38;5;129;01min\u001b[39;00m \u001b[38;5;28mnext\u001b[39m(islice(csv.reader(\u001b[38;5;28mopen\u001b[39m(filepath)), \u001b[32m1\u001b[39m, \u001b[32m2\u001b[39m))[\u001b[32m0\u001b[39m].split(\u001b[33m\"\u001b[39m\u001b[33m;\u001b[39m\u001b[33m\"\u001b[39m) \u001b[38;5;28;01mif\u001b[39;00m t]\n\u001b[32m     28\u001b[39m     points = [\u001b[38;5;28mint\u001b[39m(p) \u001b[38;5;28;01mfor\u001b[39;00m p \u001b[38;5;129;01min\u001b[39;00m \u001b[38;5;28mnext\u001b[39m(islice(csv.reader(\u001b[38;5;28mopen\u001b[39m(filepath)), \u001b[32m0\u001b[39m, \u001b[32m1\u001b[39m))[\u001b[32m0\u001b[39m].split(\u001b[33m\"\u001b[39m\u001b[33m;\u001b[39m\u001b[33m\"\u001b[39m) \u001b[38;5;28;01mif\u001b[39;00m p]\n",
      "\u001b[36mFile \u001b[39m\u001b[32m/usr/local/lib/python3.12/site-packages/pandas/io/parsers/readers.py:1026\u001b[39m, in \u001b[36mread_csv\u001b[39m\u001b[34m(filepath_or_buffer, sep, delimiter, header, names, index_col, usecols, dtype, engine, converters, true_values, false_values, skipinitialspace, skiprows, skipfooter, nrows, na_values, keep_default_na, na_filter, verbose, skip_blank_lines, parse_dates, infer_datetime_format, keep_date_col, date_parser, date_format, dayfirst, cache_dates, iterator, chunksize, compression, thousands, decimal, lineterminator, quotechar, quoting, doublequote, escapechar, comment, encoding, encoding_errors, dialect, on_bad_lines, delim_whitespace, low_memory, memory_map, float_precision, storage_options, dtype_backend)\u001b[39m\n\u001b[32m   1013\u001b[39m kwds_defaults = _refine_defaults_read(\n\u001b[32m   1014\u001b[39m     dialect,\n\u001b[32m   1015\u001b[39m     delimiter,\n\u001b[32m   (...)\u001b[39m\u001b[32m   1022\u001b[39m     dtype_backend=dtype_backend,\n\u001b[32m   1023\u001b[39m )\n\u001b[32m   1024\u001b[39m kwds.update(kwds_defaults)\n\u001b[32m-> \u001b[39m\u001b[32m1026\u001b[39m \u001b[38;5;28;01mreturn\u001b[39;00m \u001b[43m_read\u001b[49m\u001b[43m(\u001b[49m\u001b[43mfilepath_or_buffer\u001b[49m\u001b[43m,\u001b[49m\u001b[43m \u001b[49m\u001b[43mkwds\u001b[49m\u001b[43m)\u001b[49m\n",
      "\u001b[36mFile \u001b[39m\u001b[32m/usr/local/lib/python3.12/site-packages/pandas/io/parsers/readers.py:620\u001b[39m, in \u001b[36m_read\u001b[39m\u001b[34m(filepath_or_buffer, kwds)\u001b[39m\n\u001b[32m    617\u001b[39m _validate_names(kwds.get(\u001b[33m\"\u001b[39m\u001b[33mnames\u001b[39m\u001b[33m\"\u001b[39m, \u001b[38;5;28;01mNone\u001b[39;00m))\n\u001b[32m    619\u001b[39m \u001b[38;5;66;03m# Create the parser.\u001b[39;00m\n\u001b[32m--> \u001b[39m\u001b[32m620\u001b[39m parser = \u001b[43mTextFileReader\u001b[49m\u001b[43m(\u001b[49m\u001b[43mfilepath_or_buffer\u001b[49m\u001b[43m,\u001b[49m\u001b[43m \u001b[49m\u001b[43m*\u001b[49m\u001b[43m*\u001b[49m\u001b[43mkwds\u001b[49m\u001b[43m)\u001b[49m\n\u001b[32m    622\u001b[39m \u001b[38;5;28;01mif\u001b[39;00m chunksize \u001b[38;5;129;01mor\u001b[39;00m iterator:\n\u001b[32m    623\u001b[39m     \u001b[38;5;28;01mreturn\u001b[39;00m parser\n",
      "\u001b[36mFile \u001b[39m\u001b[32m/usr/local/lib/python3.12/site-packages/pandas/io/parsers/readers.py:1620\u001b[39m, in \u001b[36mTextFileReader.__init__\u001b[39m\u001b[34m(self, f, engine, **kwds)\u001b[39m\n\u001b[32m   1617\u001b[39m     \u001b[38;5;28mself\u001b[39m.options[\u001b[33m\"\u001b[39m\u001b[33mhas_index_names\u001b[39m\u001b[33m\"\u001b[39m] = kwds[\u001b[33m\"\u001b[39m\u001b[33mhas_index_names\u001b[39m\u001b[33m\"\u001b[39m]\n\u001b[32m   1619\u001b[39m \u001b[38;5;28mself\u001b[39m.handles: IOHandles | \u001b[38;5;28;01mNone\u001b[39;00m = \u001b[38;5;28;01mNone\u001b[39;00m\n\u001b[32m-> \u001b[39m\u001b[32m1620\u001b[39m \u001b[38;5;28mself\u001b[39m._engine = \u001b[38;5;28;43mself\u001b[39;49m\u001b[43m.\u001b[49m\u001b[43m_make_engine\u001b[49m\u001b[43m(\u001b[49m\u001b[43mf\u001b[49m\u001b[43m,\u001b[49m\u001b[43m \u001b[49m\u001b[38;5;28;43mself\u001b[39;49m\u001b[43m.\u001b[49m\u001b[43mengine\u001b[49m\u001b[43m)\u001b[49m\n",
      "\u001b[36mFile \u001b[39m\u001b[32m/usr/local/lib/python3.12/site-packages/pandas/io/parsers/readers.py:1880\u001b[39m, in \u001b[36mTextFileReader._make_engine\u001b[39m\u001b[34m(self, f, engine)\u001b[39m\n\u001b[32m   1878\u001b[39m     \u001b[38;5;28;01mif\u001b[39;00m \u001b[33m\"\u001b[39m\u001b[33mb\u001b[39m\u001b[33m\"\u001b[39m \u001b[38;5;129;01mnot\u001b[39;00m \u001b[38;5;129;01min\u001b[39;00m mode:\n\u001b[32m   1879\u001b[39m         mode += \u001b[33m\"\u001b[39m\u001b[33mb\u001b[39m\u001b[33m\"\u001b[39m\n\u001b[32m-> \u001b[39m\u001b[32m1880\u001b[39m \u001b[38;5;28mself\u001b[39m.handles = \u001b[43mget_handle\u001b[49m\u001b[43m(\u001b[49m\n\u001b[32m   1881\u001b[39m \u001b[43m    \u001b[49m\u001b[43mf\u001b[49m\u001b[43m,\u001b[49m\n\u001b[32m   1882\u001b[39m \u001b[43m    \u001b[49m\u001b[43mmode\u001b[49m\u001b[43m,\u001b[49m\n\u001b[32m   1883\u001b[39m \u001b[43m    \u001b[49m\u001b[43mencoding\u001b[49m\u001b[43m=\u001b[49m\u001b[38;5;28;43mself\u001b[39;49m\u001b[43m.\u001b[49m\u001b[43moptions\u001b[49m\u001b[43m.\u001b[49m\u001b[43mget\u001b[49m\u001b[43m(\u001b[49m\u001b[33;43m\"\u001b[39;49m\u001b[33;43mencoding\u001b[39;49m\u001b[33;43m\"\u001b[39;49m\u001b[43m,\u001b[49m\u001b[43m \u001b[49m\u001b[38;5;28;43;01mNone\u001b[39;49;00m\u001b[43m)\u001b[49m\u001b[43m,\u001b[49m\n\u001b[32m   1884\u001b[39m \u001b[43m    \u001b[49m\u001b[43mcompression\u001b[49m\u001b[43m=\u001b[49m\u001b[38;5;28;43mself\u001b[39;49m\u001b[43m.\u001b[49m\u001b[43moptions\u001b[49m\u001b[43m.\u001b[49m\u001b[43mget\u001b[49m\u001b[43m(\u001b[49m\u001b[33;43m\"\u001b[39;49m\u001b[33;43mcompression\u001b[39;49m\u001b[33;43m\"\u001b[39;49m\u001b[43m,\u001b[49m\u001b[43m \u001b[49m\u001b[38;5;28;43;01mNone\u001b[39;49;00m\u001b[43m)\u001b[49m\u001b[43m,\u001b[49m\n\u001b[32m   1885\u001b[39m \u001b[43m    \u001b[49m\u001b[43mmemory_map\u001b[49m\u001b[43m=\u001b[49m\u001b[38;5;28;43mself\u001b[39;49m\u001b[43m.\u001b[49m\u001b[43moptions\u001b[49m\u001b[43m.\u001b[49m\u001b[43mget\u001b[49m\u001b[43m(\u001b[49m\u001b[33;43m\"\u001b[39;49m\u001b[33;43mmemory_map\u001b[39;49m\u001b[33;43m\"\u001b[39;49m\u001b[43m,\u001b[49m\u001b[43m \u001b[49m\u001b[38;5;28;43;01mFalse\u001b[39;49;00m\u001b[43m)\u001b[49m\u001b[43m,\u001b[49m\n\u001b[32m   1886\u001b[39m \u001b[43m    \u001b[49m\u001b[43mis_text\u001b[49m\u001b[43m=\u001b[49m\u001b[43mis_text\u001b[49m\u001b[43m,\u001b[49m\n\u001b[32m   1887\u001b[39m \u001b[43m    \u001b[49m\u001b[43merrors\u001b[49m\u001b[43m=\u001b[49m\u001b[38;5;28;43mself\u001b[39;49m\u001b[43m.\u001b[49m\u001b[43moptions\u001b[49m\u001b[43m.\u001b[49m\u001b[43mget\u001b[49m\u001b[43m(\u001b[49m\u001b[33;43m\"\u001b[39;49m\u001b[33;43mencoding_errors\u001b[39;49m\u001b[33;43m\"\u001b[39;49m\u001b[43m,\u001b[49m\u001b[43m \u001b[49m\u001b[33;43m\"\u001b[39;49m\u001b[33;43mstrict\u001b[39;49m\u001b[33;43m\"\u001b[39;49m\u001b[43m)\u001b[49m\u001b[43m,\u001b[49m\n\u001b[32m   1888\u001b[39m \u001b[43m    \u001b[49m\u001b[43mstorage_options\u001b[49m\u001b[43m=\u001b[49m\u001b[38;5;28;43mself\u001b[39;49m\u001b[43m.\u001b[49m\u001b[43moptions\u001b[49m\u001b[43m.\u001b[49m\u001b[43mget\u001b[49m\u001b[43m(\u001b[49m\u001b[33;43m\"\u001b[39;49m\u001b[33;43mstorage_options\u001b[39;49m\u001b[33;43m\"\u001b[39;49m\u001b[43m,\u001b[49m\u001b[43m \u001b[49m\u001b[38;5;28;43;01mNone\u001b[39;49;00m\u001b[43m)\u001b[49m\u001b[43m,\u001b[49m\n\u001b[32m   1889\u001b[39m \u001b[43m\u001b[49m\u001b[43m)\u001b[49m\n\u001b[32m   1890\u001b[39m \u001b[38;5;28;01massert\u001b[39;00m \u001b[38;5;28mself\u001b[39m.handles \u001b[38;5;129;01mis\u001b[39;00m \u001b[38;5;129;01mnot\u001b[39;00m \u001b[38;5;28;01mNone\u001b[39;00m\n\u001b[32m   1891\u001b[39m f = \u001b[38;5;28mself\u001b[39m.handles.handle\n",
      "\u001b[36mFile \u001b[39m\u001b[32m/usr/local/lib/python3.12/site-packages/pandas/io/common.py:873\u001b[39m, in \u001b[36mget_handle\u001b[39m\u001b[34m(path_or_buf, mode, encoding, compression, memory_map, is_text, errors, storage_options)\u001b[39m\n\u001b[32m    868\u001b[39m \u001b[38;5;28;01melif\u001b[39;00m \u001b[38;5;28misinstance\u001b[39m(handle, \u001b[38;5;28mstr\u001b[39m):\n\u001b[32m    869\u001b[39m     \u001b[38;5;66;03m# Check whether the filename is to be opened in binary mode.\u001b[39;00m\n\u001b[32m    870\u001b[39m     \u001b[38;5;66;03m# Binary mode does not support 'encoding' and 'newline'.\u001b[39;00m\n\u001b[32m    871\u001b[39m     \u001b[38;5;28;01mif\u001b[39;00m ioargs.encoding \u001b[38;5;129;01mand\u001b[39;00m \u001b[33m\"\u001b[39m\u001b[33mb\u001b[39m\u001b[33m\"\u001b[39m \u001b[38;5;129;01mnot\u001b[39;00m \u001b[38;5;129;01min\u001b[39;00m ioargs.mode:\n\u001b[32m    872\u001b[39m         \u001b[38;5;66;03m# Encoding\u001b[39;00m\n\u001b[32m--> \u001b[39m\u001b[32m873\u001b[39m         handle = \u001b[38;5;28;43mopen\u001b[39;49m\u001b[43m(\u001b[49m\n\u001b[32m    874\u001b[39m \u001b[43m            \u001b[49m\u001b[43mhandle\u001b[49m\u001b[43m,\u001b[49m\n\u001b[32m    875\u001b[39m \u001b[43m            \u001b[49m\u001b[43mioargs\u001b[49m\u001b[43m.\u001b[49m\u001b[43mmode\u001b[49m\u001b[43m,\u001b[49m\n\u001b[32m    876\u001b[39m \u001b[43m            \u001b[49m\u001b[43mencoding\u001b[49m\u001b[43m=\u001b[49m\u001b[43mioargs\u001b[49m\u001b[43m.\u001b[49m\u001b[43mencoding\u001b[49m\u001b[43m,\u001b[49m\n\u001b[32m    877\u001b[39m \u001b[43m            \u001b[49m\u001b[43merrors\u001b[49m\u001b[43m=\u001b[49m\u001b[43merrors\u001b[49m\u001b[43m,\u001b[49m\n\u001b[32m    878\u001b[39m \u001b[43m            \u001b[49m\u001b[43mnewline\u001b[49m\u001b[43m=\u001b[49m\u001b[33;43m\"\u001b[39;49m\u001b[33;43m\"\u001b[39;49m\u001b[43m,\u001b[49m\n\u001b[32m    879\u001b[39m \u001b[43m        \u001b[49m\u001b[43m)\u001b[49m\n\u001b[32m    880\u001b[39m     \u001b[38;5;28;01melse\u001b[39;00m:\n\u001b[32m    881\u001b[39m         \u001b[38;5;66;03m# Binary mode\u001b[39;00m\n\u001b[32m    882\u001b[39m         handle = \u001b[38;5;28mopen\u001b[39m(handle, ioargs.mode)\n",
      "\u001b[31mFileNotFoundError\u001b[39m: [Errno 2] No such file or directory: './data/insulating-materials/dataset.csv'"
     ]
    }
   ],
   "source": [
    "dataset: MCDADataset = MCDADataset.read_csv(\"./data/insulating-materials/dataset.csv\")\n",
    "\n",
    "df_domination = get_domination_df(n_components, dataset)\n",
    "preferences_list = [df_domination.index.to_series().sample(2, random_state=i).tolist() for i in range(10)]\n",
    "print(preferences_list)\n",
    "preferences = preferences_list[2]"
   ]
  }
 ],
 "metadata": {
  "kernelspec": {
   "display_name": "Python 3 (ipykernel)",
   "language": "python",
   "name": "python3"
  },
  "language_info": {
   "codemirror_mode": {
    "name": "ipython",
    "version": 3
   },
   "file_extension": ".py",
   "mimetype": "text/x-python",
   "name": "python",
   "nbconvert_exporter": "python",
   "pygments_lexer": "ipython3",
   "version": "3.12.9"
  }
 },
 "nbformat": 4,
 "nbformat_minor": 5
}
