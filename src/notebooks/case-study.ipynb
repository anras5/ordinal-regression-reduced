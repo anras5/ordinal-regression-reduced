{
 "cells": [
  {
   "cell_type": "markdown",
   "id": "1f499d92-a330-4fc0-8a72-59d06883b0e6",
   "metadata": {},
   "source": [
    "# Setup"
   ]
  },
  {
   "cell_type": "code",
   "execution_count": 14,
   "id": "963e768f-bcc9-4264-b73f-14de3ee05b5a",
   "metadata": {},
   "outputs": [],
   "source": [
    "from pathlib import Path\n",
    "import sys\n",
    "import os\n",
    "\n",
    "import numpy as np\n",
    "import pandas as pd\n",
    "from sklearn.decomposition import PCA, KernelPCA\n",
    "from sklearn.manifold import Isomap\n",
    "from sklearn.pipeline import Pipeline\n",
    "from sklearn.preprocessing import StandardScaler\n",
    "from hassediagram.hasse_diagram import hasse_graphviz\n",
    "\n",
    "\n",
    "sys.path.append(str(Path(os.getcwd()).parent))\n",
    "from mcda.dataset import MCDADataset\n",
    "from mcda.uta import Criterion, calculate_uta_gms\n",
    "from methods.autoencoder import DominanceAutoEncoder\n",
    "from methods.mvu import MaximumVarianceUnfolding"
   ]
  },
  {
   "cell_type": "code",
   "execution_count": 15,
   "id": "829f1ff8-f932-4256-863b-93e654335a46",
   "metadata": {},
   "outputs": [],
   "source": [
    "def get_methods(n: int) -> dict:\n",
    "    \"\"\"\n",
    "    Get a dictionary of methods for dimensionality reduction.\n",
    "\n",
    "    Parameters\n",
    "    ----------\n",
    "    n (int): Number of components for the methods.\n",
    "\n",
    "    Returns\n",
    "    -------\n",
    "    dict: Dictionary of methods.\n",
    "\n",
    "    \"\"\"\n",
    "    return {\n",
    "        \"PCA\": Pipeline([(\"scaler\", StandardScaler()), (\"pca\", PCA(n_components=n, random_state=42))]),\n",
    "        \"KernelPCA\": Pipeline([(\"scaler\", StandardScaler()), (\"kpca\", KernelPCA(n_components=n, random_state=42))]),\n",
    "        \"Isomap\": Pipeline([(\"scaler\", StandardScaler()), (\"isomap\", Isomap(n_components=n))]),\n",
    "        \"MVU\": Pipeline([(\"scaler\", StandardScaler()), (\"mvu\", MaximumVarianceUnfolding(n_components=n, seed=42))]),\n",
    "        \"DAE\": Pipeline(\n",
    "            [\n",
    "                (\"scaler\", StandardScaler()),\n",
    "                (\"dae\", DominanceAutoEncoder(latent_dim=n, num_epochs=1000, random_state=42, verbose=False)),\n",
    "            ]\n",
    "        ),\n",
    "    }"
   ]
  },
  {
   "cell_type": "markdown",
   "id": "10dbbf0a-10ec-480c-962d-8523039d2eae",
   "metadata": {},
   "source": [
    "# Preferences"
   ]
  },
  {
   "cell_type": "code",
   "execution_count": 35,
   "id": "ac9f9fcb-1b6b-4ac5-aaf3-f6e73f0881c5",
   "metadata": {},
   "outputs": [],
   "source": [
    "preferences = {\n",
    "    1: [[('a3', 'a9')], [('a8', 'a11')], [('a6', 'a12')], [('a6', 'a11')], [('a6', 'a2')], [('a7', 'a8')], [('a1', 'a2')], [('a5', 'a8')], [('a3', 'a2')], [('a1', 'a9')]],\n",
    "    2: [[('a3', 'a9'), ('a1', 'a9')], [('a8', 'a11'), ('a4', 'a2')], [('a6', 'a12'), ('a5', 'a8')], [('a6', 'a11'), ('a1', 'a4')], [('a6', 'a2'), ('a10', 'a5')], [('a7', 'a8'), ('a1', 'a11')], [('a1', 'a2'), ('a1', 'a7')], [('a5', 'a8'), ('a12', 'a8')], [('a3', 'a2'), ('a6', 'a4')], [('a1', 'a9'), ('a3', 'a4')]],\n",
    "    3: [[('a3', 'a9'), ('a1', 'a9'), ('a1', 'a11')], [('a8', 'a11'), ('a4', 'a2'), ('a3', 'a9')], [('a6', 'a12'), ('a5', 'a8'), ('a3', 'a9')], [('a6', 'a11'), ('a1', 'a4'), ('a6', 'a12')], [('a6', 'a2'), ('a10', 'a5'), ('a7', 'a12')], [('a7', 'a8'), ('a1', 'a11'), ('a1', 'a9')], [('a1', 'a2'), ('a1', 'a7'), ('a6', 'a9')], [('a5', 'a8'), ('a12', 'a8'), ('a6', 'a8')], [('a3', 'a2'), ('a6', 'a4'), ('a4', 'a9')], [('a1', 'a9'), ('a3', 'a4'), ('a10', 'a2')]],\n",
    "    4: [[('a3', 'a9'), ('a1', 'a9'), ('a1', 'a11'), ('a1', 'a8')], [('a8', 'a11'), ('a4', 'a2'), ('a3', 'a9'), ('a6', 'a11')], [('a6', 'a12'), ('a5', 'a8'), ('a3', 'a9'), ('a4', 'a11')], [('a6', 'a11'), ('a1', 'a4'), ('a6', 'a12'), ('a10', 'a3')], [('a6', 'a2'), ('a10', 'a5'), ('a7', 'a12'), ('a5', 'a7')], [('a7', 'a8'), ('a1', 'a11'), ('a1', 'a9'), ('a12', 'a11')], [('a1', 'a2'), ('a1', 'a7'), ('a6', 'a9'), ('a1', 'a6')], [('a5', 'a8'), ('a12', 'a8'), ('a6', 'a8'), ('a6', 'a3')], [('a3', 'a2'), ('a6', 'a4'), ('a4', 'a9'), ('a4', 'a11')], [('a1', 'a9'), ('a3', 'a4'), ('a10', 'a2'), ('a12', 'a2')]],\n",
    "    5: [[('a3', 'a9'), ('a1', 'a9'), ('a1', 'a11'), ('a1', 'a8'), ('a7', 'a3')], [('a8', 'a11'), ('a4', 'a2'), ('a3', 'a9'), ('a6', 'a11'), ('a7', 'a9')], [('a6', 'a12'), ('a5', 'a8'), ('a3', 'a9'), ('a4', 'a11'), ('a1', 'a7')], [('a6', 'a11'), ('a1', 'a4'), ('a6', 'a12'), ('a10', 'a3'), ('a10', 'a2')], [('a6', 'a2'), ('a10', 'a5'), ('a7', 'a12'), ('a5', 'a7'), ('a10', 'a3')], [('a7', 'a8'), ('a1', 'a11'), ('a1', 'a9'), ('a12', 'a11'), ('a5', 'a12')], [('a1', 'a2'), ('a1', 'a7'), ('a6', 'a9'), ('a1', 'a6'), ('a6', 'a12')], [('a5', 'a8'), ('a12', 'a8'), ('a6', 'a8'), ('a6', 'a3'), ('a4', 'a9')], [('a3', 'a2'), ('a6', 'a4'), ('a4', 'a9'), ('a4', 'a11'), ('a1', 'a7')], [('a1', 'a9'), ('a3', 'a4'), ('a10', 'a2'), ('a12', 'a2'), ('a4', 'a9')]],\n",
    "    6: [[('a3', 'a9'), ('a1', 'a9'), ('a1', 'a11'), ('a1', 'a8'), ('a7', 'a3'), ('a4', 'a2')], [('a8', 'a11'), ('a4', 'a2'), ('a3', 'a9'), ('a6', 'a11'), ('a7', 'a9'), ('a1', 'a9')], [('a6', 'a12'), ('a5', 'a8'), ('a3', 'a9'), ('a4', 'a11'), ('a1', 'a7'), ('a7', 'a11')], [('a6', 'a11'), ('a1', 'a4'), ('a6', 'a12'), ('a10', 'a3'), ('a10', 'a2'), ('a4', 'a9')], [('a6', 'a2'), ('a10', 'a5'), ('a7', 'a12'), ('a5', 'a7'), ('a10', 'a3'), ('a3', 'a8')], [('a7', 'a8'), ('a1', 'a11'), ('a1', 'a9'), ('a12', 'a11'), ('a5', 'a12'), ('a1', 'a5')], [('a1', 'a2'), ('a1', 'a7'), ('a6', 'a9'), ('a1', 'a6'), ('a6', 'a12'), ('a1', 'a5')], [('a5', 'a8'), ('a12', 'a8'), ('a6', 'a8'), ('a6', 'a3'), ('a4', 'a9'), ('a5', 'a4')], [('a3', 'a2'), ('a6', 'a4'), ('a4', 'a9'), ('a4', 'a11'), ('a1', 'a7'), ('a3', 'a8')], [('a1', 'a9'), ('a3', 'a4'), ('a10', 'a2'), ('a12', 'a2'), ('a4', 'a9'), ('a4', 'a2')]],\n",
    "}"
   ]
  },
  {
   "cell_type": "markdown",
   "id": "273679d6-eabc-4198-b73e-55e2dee9c1c7",
   "metadata": {},
   "source": [
    "# Dataset"
   ]
  },
  {
   "cell_type": "code",
   "execution_count": 36,
   "id": "45057640-f41a-4e3f-b35b-24dc277c07fc",
   "metadata": {},
   "outputs": [],
   "source": [
    "dataset: MCDADataset = MCDADataset.read_csv(\"../data/insulating-materials/dataset.csv\")"
   ]
  },
  {
   "cell_type": "markdown",
   "id": "1ee7d0d1-6c5c-4bcb-a8ae-4c3eb27e59dd",
   "metadata": {},
   "source": [
    "# Generating diagrams"
   ]
  },
  {
   "cell_type": "code",
   "execution_count": 45,
   "id": "b6f6368e-9f92-4208-b5c1-2aaf5f6a4f8b",
   "metadata": {},
   "outputs": [],
   "source": [
    "for preference in [l[0] for l in preferences.values()]:\n",
    "    number_of_preference = len(preference)\n",
    "    for n in [2, 3, 4, 5, 6]:\n",
    "        methods = get_methods(n)\n",
    "        for method_name, method in methods.items():\n",
    "            transformed_data = method.fit_transform(dataset.data)\n",
    "            df_m = (\n",
    "                pd.DataFrame(transformed_data, index=dataset.data.index, columns=range(n)).map(lambda x: f\"{x:.4f}\").astype(np.float64)\n",
    "            )\n",
    "            criteria = [Criterion(name, points=n_points) for name in df_m.columns]\n",
    "            df_utagms = calculate_uta_gms(df_m, preference, criteria)\n",
    "            dot = hasse_graphviz(df_utagms.values)\n",
    "            dot.graph_attr.update(dpi='300')\n",
    "            dot.render(filename=method_name, directory=f\"../data/insulating-materials/output/preferences_{number_of_preference}/diagrams/dim_{n}\", format=\"png\", cleanup=True)"
   ]
  }
 ],
 "metadata": {
  "kernelspec": {
   "display_name": "Python 3 (ipykernel)",
   "language": "python",
   "name": "python3"
  },
  "language_info": {
   "codemirror_mode": {
    "name": "ipython",
    "version": 3
   },
   "file_extension": ".py",
   "mimetype": "text/x-python",
   "name": "python",
   "nbconvert_exporter": "python",
   "pygments_lexer": "ipython3",
   "version": "3.12.9"
  }
 },
 "nbformat": 4,
 "nbformat_minor": 5
}
