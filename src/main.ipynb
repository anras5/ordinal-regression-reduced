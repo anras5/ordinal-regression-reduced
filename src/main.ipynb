{
 "cells": [
  {
   "cell_type": "markdown",
   "id": "5d0cd9d5-54d9-46c4-b4f9-95c7185d3c62",
   "metadata": {},
   "source": [
    "# Imports"
   ]
  },
  {
   "cell_type": "code",
   "execution_count": 1,
   "id": "638ac8bb-69eb-48e1-88ed-211bcab4c1c1",
   "metadata": {},
   "outputs": [],
   "source": [
    "import pandas as pd\n",
    "import numpy as np\n",
    "from sklearn.decomposition import PCA\n",
    "from sklearn.manifold import TSNE, MDS\n",
    "from sklearn.preprocessing import StandardScaler\n",
    "\n",
    "from reader import read_csv\n",
    "from uta import Criterion\n",
    "from report import calculate_heuristics"
   ]
  },
  {
   "cell_type": "markdown",
   "id": "cd4e7132-ffed-4e00-9668-f2d59a00f6ae",
   "metadata": {},
   "source": [
    "# Read data"
   ]
  },
  {
   "cell_type": "code",
   "execution_count": 2,
   "id": "d9f23cb2-c70b-4661-89b2-47cfa63a36e5",
   "metadata": {},
   "outputs": [
    {
     "name": "stdout",
     "output_type": "stream",
     "text": [
      "[Criterion(name='g1', type=True, points=2), Criterion(name='g2', type=True, points=2), Criterion(name='g3', type=True, points=2), Criterion(name='g4', type=True, points=2), Criterion(name='g5', type=True, points=2)]\n"
     ]
    },
    {
     "data": {
      "text/html": [
       "<div>\n",
       "<style scoped>\n",
       "    .dataframe tbody tr th:only-of-type {\n",
       "        vertical-align: middle;\n",
       "    }\n",
       "\n",
       "    .dataframe tbody tr th {\n",
       "        vertical-align: top;\n",
       "    }\n",
       "\n",
       "    .dataframe thead th {\n",
       "        text-align: right;\n",
       "    }\n",
       "</style>\n",
       "<table border=\"1\" class=\"dataframe\">\n",
       "  <thead>\n",
       "    <tr style=\"text-align: right;\">\n",
       "      <th></th>\n",
       "      <th>g1</th>\n",
       "      <th>g2</th>\n",
       "      <th>g3</th>\n",
       "      <th>g4</th>\n",
       "      <th>g5</th>\n",
       "    </tr>\n",
       "  </thead>\n",
       "  <tbody>\n",
       "    <tr>\n",
       "      <th>a01</th>\n",
       "      <td>-18342.0</td>\n",
       "      <td>-30.7</td>\n",
       "      <td>-37.2</td>\n",
       "      <td>2.33</td>\n",
       "      <td>3.00</td>\n",
       "    </tr>\n",
       "    <tr>\n",
       "      <th>a02</th>\n",
       "      <td>-15335.0</td>\n",
       "      <td>-30.2</td>\n",
       "      <td>-41.6</td>\n",
       "      <td>2.00</td>\n",
       "      <td>2.50</td>\n",
       "    </tr>\n",
       "    <tr>\n",
       "      <th>a03</th>\n",
       "      <td>-16973.0</td>\n",
       "      <td>-29.0</td>\n",
       "      <td>-34.9</td>\n",
       "      <td>2.66</td>\n",
       "      <td>2.50</td>\n",
       "    </tr>\n",
       "    <tr>\n",
       "      <th>a04</th>\n",
       "      <td>-15460.0</td>\n",
       "      <td>-30.4</td>\n",
       "      <td>-35.8</td>\n",
       "      <td>1.66</td>\n",
       "      <td>1.50</td>\n",
       "    </tr>\n",
       "    <tr>\n",
       "      <th>a05</th>\n",
       "      <td>-15131.0</td>\n",
       "      <td>-29.7</td>\n",
       "      <td>-35.6</td>\n",
       "      <td>1.66</td>\n",
       "      <td>1.75</td>\n",
       "    </tr>\n",
       "    <tr>\n",
       "      <th>a06</th>\n",
       "      <td>-13841.0</td>\n",
       "      <td>-30.8</td>\n",
       "      <td>-36.5</td>\n",
       "      <td>1.33</td>\n",
       "      <td>2.00</td>\n",
       "    </tr>\n",
       "    <tr>\n",
       "      <th>a07</th>\n",
       "      <td>-18971.0</td>\n",
       "      <td>-28.0</td>\n",
       "      <td>-35.6</td>\n",
       "      <td>2.33</td>\n",
       "      <td>2.00</td>\n",
       "    </tr>\n",
       "    <tr>\n",
       "      <th>a08</th>\n",
       "      <td>-18319.0</td>\n",
       "      <td>-28.9</td>\n",
       "      <td>-35.3</td>\n",
       "      <td>1.66</td>\n",
       "      <td>2.00</td>\n",
       "    </tr>\n",
       "    <tr>\n",
       "      <th>a09</th>\n",
       "      <td>-19800.0</td>\n",
       "      <td>-29.4</td>\n",
       "      <td>-34.7</td>\n",
       "      <td>2.00</td>\n",
       "      <td>1.75</td>\n",
       "    </tr>\n",
       "    <tr>\n",
       "      <th>a10</th>\n",
       "      <td>-16966.0</td>\n",
       "      <td>-30.0</td>\n",
       "      <td>-37.7</td>\n",
       "      <td>2.33</td>\n",
       "      <td>3.25</td>\n",
       "    </tr>\n",
       "    <tr>\n",
       "      <th>a11</th>\n",
       "      <td>-17537.0</td>\n",
       "      <td>-28.3</td>\n",
       "      <td>-34.8</td>\n",
       "      <td>2.33</td>\n",
       "      <td>2.75</td>\n",
       "    </tr>\n",
       "    <tr>\n",
       "      <th>a12</th>\n",
       "      <td>-15980.0</td>\n",
       "      <td>-29.6</td>\n",
       "      <td>-35.3</td>\n",
       "      <td>2.33</td>\n",
       "      <td>2.75</td>\n",
       "    </tr>\n",
       "    <tr>\n",
       "      <th>a13</th>\n",
       "      <td>-17219.0</td>\n",
       "      <td>-30.2</td>\n",
       "      <td>-36.9</td>\n",
       "      <td>1.66</td>\n",
       "      <td>1.25</td>\n",
       "    </tr>\n",
       "    <tr>\n",
       "      <th>a14</th>\n",
       "      <td>-21334.0</td>\n",
       "      <td>-28.9</td>\n",
       "      <td>-36.7</td>\n",
       "      <td>2.00</td>\n",
       "      <td>2.25</td>\n",
       "    </tr>\n",
       "  </tbody>\n",
       "</table>\n",
       "</div>"
      ],
      "text/plain": [
       "          g1    g2    g3    g4    g5\n",
       "a01 -18342.0 -30.7 -37.2  2.33  3.00\n",
       "a02 -15335.0 -30.2 -41.6  2.00  2.50\n",
       "a03 -16973.0 -29.0 -34.9  2.66  2.50\n",
       "a04 -15460.0 -30.4 -35.8  1.66  1.50\n",
       "a05 -15131.0 -29.7 -35.6  1.66  1.75\n",
       "a06 -13841.0 -30.8 -36.5  1.33  2.00\n",
       "a07 -18971.0 -28.0 -35.6  2.33  2.00\n",
       "a08 -18319.0 -28.9 -35.3  1.66  2.00\n",
       "a09 -19800.0 -29.4 -34.7  2.00  1.75\n",
       "a10 -16966.0 -30.0 -37.7  2.33  3.25\n",
       "a11 -17537.0 -28.3 -34.8  2.33  2.75\n",
       "a12 -15980.0 -29.6 -35.3  2.33  2.75\n",
       "a13 -17219.0 -30.2 -36.9  1.66  1.25\n",
       "a14 -21334.0 -28.9 -36.7  2.00  2.25"
      ]
     },
     "execution_count": 2,
     "metadata": {},
     "output_type": "execute_result"
    }
   ],
   "source": [
    "df, CRITERIA = read_csv(\"data/s2.csv\")\n",
    "print(CRITERIA)\n",
    "df"
   ]
  },
  {
   "cell_type": "code",
   "execution_count": 3,
   "id": "af18921b-cec0-4e84-917c-6e86d514df9e",
   "metadata": {},
   "outputs": [],
   "source": [
    "PREFERENCES = [\n",
    "    ('a08', 'a09'),\n",
    "    ('a10', 'a03'),\n",
    "    ('a01', 'a02')\n",
    "]\n",
    "N_COMPONENTS = 3"
   ]
  },
  {
   "cell_type": "markdown",
   "id": "dad1613c-e5b7-49e1-b2d7-6155fbca24cc",
   "metadata": {},
   "source": [
    "# Calculations"
   ]
  },
  {
   "cell_type": "code",
   "execution_count": null,
   "id": "929495ec-a893-4fd8-a2de-e1d85264e2be",
   "metadata": {},
   "outputs": [],
   "source": [
    "scaler = StandardScaler()\n",
    "df_scaled = scaler.fit_transform(df)\n",
    "\n",
    "n_components = [2, 3, 4]\n",
    "for n in n_components:\n",
    "    methods = [PCA(n_components=n_components), TSNE(n_components=N_COMPONENTS, perplexity=10), MDS(n_components=N_COMPONENTS)]\n",
    "    for method in methods:\n",
    "        df_m = pd.DataFrame(pca.fit_transform(df_scaled), index=df.index, columns=range(n)).map(lambda x: f\"{x:.4f}\").astype(np.float64)\n",
    "        CRITERIA = [Criterion(name, points=2) for name in df_m.columns]"
   ]
  },
  {
   "cell_type": "markdown",
   "id": "3a2a11a8-c984-410a-9f65-bb7e4f2cffec",
   "metadata": {},
   "source": [
    "# Original dataset"
   ]
  },
  {
   "cell_type": "code",
   "execution_count": 4,
   "id": "0ec6beb6-e2de-4df6-8cd5-468569829336",
   "metadata": {},
   "outputs": [
    {
     "name": "stdout",
     "output_type": "stream",
     "text": [
      "Input to the sampler:\n",
      "0 1 0 1 0 1 0 0 1 0 1 = 1\n",
      "0 0 1 0 0 0 0 0 0 0 0 = 0\n",
      "0 0 0 0 1 0 0 0 0 0 0 = 0\n",
      "0 0 0 0 0 0 1 0 0 0 0 = 0\n",
      "0 0 0 0 0 0 0 1 0 0 0 = 0\n",
      "0 0 0 0 0 0 0 0 0 1 0 = 0\n",
      "0 -1 1 0 0 0 0 0 0 0 0 <= 0\n",
      "0 0 0 -1 1 0 0 0 0 0 0 <= 0\n",
      "0 0 0 0 0 -1 1 0 0 0 0 <= 0\n",
      "0 0 0 0 0 0 0 1 -1 0 0 <= 0\n",
      "0 0 0 0 0 0 0 0 0 1 -1 <= 0\n",
      "-1 0.1977 -0.1977 0.1786 -0.1786 -0.087 0.087 0.2557 -0.2557 -0.125 0.125 >= -0.0\n",
      "-1 0.0009 -0.0009 -0.3572 0.3572 -0.4058 0.4058 0.2481 -0.2481 -0.375 0.375 >= -0.0\n",
      "-1 -0.4013 0.4013 -0.1786 0.1786 0.6377 -0.6377 -0.2481 0.2481 -0.25 0.25 >= -0.0\n",
      "1 0 0 0 0 0 0 0 0 0 0 >= 0.000001\n"
     ]
    },
    {
     "data": {
      "text/plain": [
       "(np.int64(36),\n",
       " np.float64(6.785714285714286),\n",
       " np.float64(0.1162368131868132),\n",
       " np.float64(1.8043142857142855))"
      ]
     },
     "execution_count": 4,
     "metadata": {},
     "output_type": "execute_result"
    }
   ],
   "source": [
    "calculate_heuristics(df, PREFERENCES, CRITERIA)"
   ]
  },
  {
   "cell_type": "markdown",
   "id": "99179a57-68e3-4a66-97a3-454fa4b93a7a",
   "metadata": {},
   "source": [
    "# Standarization"
   ]
  },
  {
   "cell_type": "code",
   "execution_count": 5,
   "id": "e01ff5f9-f53c-4c93-85e7-a5d51f1aeacc",
   "metadata": {},
   "outputs": [],
   "source": [
    "scaler = StandardScaler()\n",
    "df_scaled = scaler.fit_transform(df)"
   ]
  },
  {
   "cell_type": "markdown",
   "id": "d121066d-8771-42f9-acf3-340606345e0b",
   "metadata": {},
   "source": [
    "# PCA"
   ]
  },
  {
   "cell_type": "code",
   "execution_count": 6,
   "id": "4b9cbab9-709e-4db0-9249-1187f9b68376",
   "metadata": {},
   "outputs": [
    {
     "data": {
      "text/html": [
       "<div>\n",
       "<style scoped>\n",
       "    .dataframe tbody tr th:only-of-type {\n",
       "        vertical-align: middle;\n",
       "    }\n",
       "\n",
       "    .dataframe tbody tr th {\n",
       "        vertical-align: top;\n",
       "    }\n",
       "\n",
       "    .dataframe thead th {\n",
       "        text-align: right;\n",
       "    }\n",
       "</style>\n",
       "<table border=\"1\" class=\"dataframe\">\n",
       "  <thead>\n",
       "    <tr style=\"text-align: right;\">\n",
       "      <th></th>\n",
       "      <th>0</th>\n",
       "      <th>1</th>\n",
       "      <th>2</th>\n",
       "    </tr>\n",
       "  </thead>\n",
       "  <tbody>\n",
       "    <tr>\n",
       "      <th>a01</th>\n",
       "      <td>0.2439</td>\n",
       "      <td>1.7736</td>\n",
       "      <td>-0.2748</td>\n",
       "    </tr>\n",
       "    <tr>\n",
       "      <th>a02</th>\n",
       "      <td>-1.6764</td>\n",
       "      <td>2.3254</td>\n",
       "      <td>-1.2425</td>\n",
       "    </tr>\n",
       "    <tr>\n",
       "      <th>a03</th>\n",
       "      <td>1.6384</td>\n",
       "      <td>0.3946</td>\n",
       "      <td>1.0339</td>\n",
       "    </tr>\n",
       "    <tr>\n",
       "      <th>a04</th>\n",
       "      <td>-1.7974</td>\n",
       "      <td>-0.9640</td>\n",
       "      <td>0.4173</td>\n",
       "    </tr>\n",
       "    <tr>\n",
       "      <th>a05</th>\n",
       "      <td>-1.2544</td>\n",
       "      <td>-0.9294</td>\n",
       "      <td>0.6849</td>\n",
       "    </tr>\n",
       "    <tr>\n",
       "      <th>a06</th>\n",
       "      <td>-2.8053</td>\n",
       "      <td>-0.2102</td>\n",
       "      <td>0.7608</td>\n",
       "    </tr>\n",
       "    <tr>\n",
       "      <th>a07</th>\n",
       "      <td>1.9283</td>\n",
       "      <td>-0.8720</td>\n",
       "      <td>-0.3193</td>\n",
       "    </tr>\n",
       "    <tr>\n",
       "      <th>a08</th>\n",
       "      <td>0.2463</td>\n",
       "      <td>-1.3160</td>\n",
       "      <td>-0.2723</td>\n",
       "    </tr>\n",
       "    <tr>\n",
       "      <th>a09</th>\n",
       "      <td>0.7564</td>\n",
       "      <td>-1.4173</td>\n",
       "      <td>-0.4856</td>\n",
       "    </tr>\n",
       "    <tr>\n",
       "      <th>a10</th>\n",
       "      <td>0.4060</td>\n",
       "      <td>2.1308</td>\n",
       "      <td>0.0992</td>\n",
       "    </tr>\n",
       "    <tr>\n",
       "      <th>a11</th>\n",
       "      <td>1.9035</td>\n",
       "      <td>0.0161</td>\n",
       "      <td>0.7828</td>\n",
       "    </tr>\n",
       "    <tr>\n",
       "      <th>a12</th>\n",
       "      <td>0.5759</td>\n",
       "      <td>0.7624</td>\n",
       "      <td>1.1824</td>\n",
       "    </tr>\n",
       "    <tr>\n",
       "      <th>a13</th>\n",
       "      <td>-1.5482</td>\n",
       "      <td>-1.1658</td>\n",
       "      <td>-0.7320</td>\n",
       "    </tr>\n",
       "    <tr>\n",
       "      <th>a14</th>\n",
       "      <td>1.3830</td>\n",
       "      <td>-0.5284</td>\n",
       "      <td>-1.6349</td>\n",
       "    </tr>\n",
       "  </tbody>\n",
       "</table>\n",
       "</div>"
      ],
      "text/plain": [
       "          0       1       2\n",
       "a01  0.2439  1.7736 -0.2748\n",
       "a02 -1.6764  2.3254 -1.2425\n",
       "a03  1.6384  0.3946  1.0339\n",
       "a04 -1.7974 -0.9640  0.4173\n",
       "a05 -1.2544 -0.9294  0.6849\n",
       "a06 -2.8053 -0.2102  0.7608\n",
       "a07  1.9283 -0.8720 -0.3193\n",
       "a08  0.2463 -1.3160 -0.2723\n",
       "a09  0.7564 -1.4173 -0.4856\n",
       "a10  0.4060  2.1308  0.0992\n",
       "a11  1.9035  0.0161  0.7828\n",
       "a12  0.5759  0.7624  1.1824\n",
       "a13 -1.5482 -1.1658 -0.7320\n",
       "a14  1.3830 -0.5284 -1.6349"
      ]
     },
     "execution_count": 6,
     "metadata": {},
     "output_type": "execute_result"
    }
   ],
   "source": [
    "pca = PCA(n_components=N_COMPONENTS)\n",
    "df_pca = pd.DataFrame(pca.fit_transform(df_scaled), index=df.index, columns=range(N_COMPONENTS)).map(lambda x: f\"{x:.4f}\").astype(np.float64)"
   ]
  },
  {
   "cell_type": "code",
   "execution_count": 7,
   "id": "41855c6e-0d61-4846-88bb-9b674fd94684",
   "metadata": {},
   "outputs": [
    {
     "name": "stdout",
     "output_type": "stream",
     "text": [
      "Input to the sampler:\n",
      "0 1 0 1 0 1 0 = 1\n",
      "0 0 1 0 0 0 0 = 0\n",
      "0 0 0 0 1 0 0 = 0\n",
      "0 0 0 0 0 0 1 = 0\n",
      "0 -1 1 0 0 0 0 <= 0\n",
      "0 0 0 -1 1 0 0 <= 0\n",
      "0 0 0 0 0 -1 1 <= 0\n",
      "-1 -0.1077 0.1077 0.0271 -0.0271 0.0758 -0.0758 >= -0.0\n",
      "-1 -0.2604 0.2604 0.4639 -0.4639 -0.3318 0.3318 >= -0.0\n",
      "-1 0.4057 -0.4057 -0.1474 0.1474 0.3435 -0.3435 >= -0.0\n",
      "1 0 0 0 0 0 0 >= 0.000001\n"
     ]
    },
    {
     "data": {
      "text/plain": [
       "(np.int64(66),\n",
       " np.float64(3.2857142857142856),\n",
       " np.float64(0.06945054945054946),\n",
       " np.float64(1.4326285714285716))"
      ]
     },
     "execution_count": 7,
     "metadata": {},
     "output_type": "execute_result"
    }
   ],
   "source": [
    "CRITERIA = [Criterion(name, points=2) for name in df_pca.columns]\n",
    "calculate_heuristics(df_pca, PREFERENCES, CRITERIA)"
   ]
  },
  {
   "cell_type": "markdown",
   "id": "92d5e90e-6de8-4ad5-bff9-1fdff6cd66ea",
   "metadata": {},
   "source": [
    "# t-SNE"
   ]
  },
  {
   "cell_type": "code",
   "execution_count": 8,
   "id": "c1e61029-90a6-4a82-b954-f3f15d722ab5",
   "metadata": {},
   "outputs": [
    {
     "name": "stdout",
     "output_type": "stream",
     "text": [
      "Input to the sampler:\n",
      "0 1 0 1 0 1 0 = 1\n",
      "0 0 1 0 0 0 0 = 0\n",
      "0 0 0 0 1 0 0 = 0\n",
      "0 0 0 0 0 0 1 = 0\n",
      "0 -1 1 0 0 0 0 <= 0\n",
      "0 0 0 -1 1 0 0 <= 0\n",
      "0 0 0 0 0 -1 1 <= 0\n",
      "-1 0.5558 -0.5558 -0.1914 0.1914 -0.2794 0.2794 >= -0.0\n",
      "-1 0.2231 -0.2231 -0.0325 0.0325 0.3872 -0.3872 >= -0.0\n",
      "-1 0.4641 -0.4641 -0.3803 0.3803 -0.243 0.243 >= -0.0\n",
      "1 0 0 0 0 0 0 >= 0.000001\n"
     ]
    },
    {
     "data": {
      "text/plain": [
       "(np.int64(42),\n",
       " np.float64(5.857142857142857),\n",
       " np.float64(0.12306813186813186),\n",
       " np.float64(1.8376785714285715))"
      ]
     },
     "execution_count": 8,
     "metadata": {},
     "output_type": "execute_result"
    }
   ],
   "source": [
    "tsne = TSNE(n_components=N_COMPONENTS, perplexity=10)\n",
    "df_tsne = pd.DataFrame(tsne.fit_transform(df_scaled), index=df.index, columns=range(N_COMPONENTS)).map(lambda x: f\"{x:.4f}\").astype(np.float64)\n",
    "calculate_heuristics(df_tsne, PREFERENCES, CRITERIA)"
   ]
  },
  {
   "cell_type": "markdown",
   "id": "1be5ebc1-6239-4239-a7c8-3c3443ea9966",
   "metadata": {},
   "source": [
    "# MDS"
   ]
  },
  {
   "cell_type": "code",
   "execution_count": 9,
   "id": "b06cc1a7-660a-46af-9ef2-ada8d7540dd1",
   "metadata": {},
   "outputs": [
    {
     "name": "stdout",
     "output_type": "stream",
     "text": [
      "Input to the sampler:\n",
      "0 1 0 1 0 1 0 = 1\n",
      "0 0 1 0 0 0 0 = 0\n",
      "0 0 0 0 1 0 0 = 0\n",
      "0 0 0 0 0 0 1 = 0\n",
      "0 -1 1 0 0 0 0 <= 0\n",
      "0 0 0 -1 1 0 0 <= 0\n",
      "0 0 0 0 0 -1 1 <= 0\n",
      "-1 0.2658 -0.2658 0.0773 -0.0773 -0.0773 0.0773 >= -0.0\n",
      "-1 -0.5399 0.5399 0.2882 -0.2882 0.0751 -0.0751 >= -0.0\n",
      "-1 -0.233 0.233 -0.4748 0.4748 -0.0158 0.0158 >= -0.0\n",
      "1 0 0 0 0 0 0 >= 0.000001\n",
      "Infeasible system.\n",
      "\n"
     ]
    },
    {
     "data": {
      "text/plain": [
       "(np.int64(182), np.float64(13.0), None, None)"
      ]
     },
     "execution_count": 9,
     "metadata": {},
     "output_type": "execute_result"
    }
   ],
   "source": [
    "mds = MDS(n_components=N_COMPONENTS)\n",
    "df_mds = pd.DataFrame(mds.fit_transform(df_scaled), index=df.index, columns=range(N_COMPONENTS)).map(lambda x: f\"{x:.4f}\").astype(np.float64)\n",
    "calculate_heuristics(df_mds, PREFERENCES, CRITERIA)"
   ]
  },
  {
   "cell_type": "code",
   "execution_count": null,
   "id": "aa21cfb4-e549-4e58-8656-50a8f32bb88f",
   "metadata": {},
   "outputs": [],
   "source": []
  }
 ],
 "metadata": {
  "kernelspec": {
   "display_name": "Python 3 (ipykernel)",
   "language": "python",
   "name": "python3"
  },
  "language_info": {
   "codemirror_mode": {
    "name": "ipython",
    "version": 3
   },
   "file_extension": ".py",
   "mimetype": "text/x-python",
   "name": "python",
   "nbconvert_exporter": "python",
   "pygments_lexer": "ipython3",
   "version": "3.11.9"
  }
 },
 "nbformat": 4,
 "nbformat_minor": 5
}
