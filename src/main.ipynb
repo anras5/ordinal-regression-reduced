{
 "cells": [
  {
   "cell_type": "markdown",
   "id": "5d0cd9d5-54d9-46c4-b4f9-95c7185d3c62",
   "metadata": {},
   "source": [
    "# Imports"
   ]
  },
  {
   "cell_type": "code",
   "execution_count": 2,
   "id": "638ac8bb-69eb-48e1-88ed-211bcab4c1c1",
   "metadata": {
    "ExecuteTime": {
     "end_time": "2024-11-14T19:15:12.387783Z",
     "start_time": "2024-11-14T19:15:12.367833Z"
    }
   },
   "outputs": [],
   "source": [
    "from collections import defaultdict\n",
    "\n",
    "import pandas as pd\n",
    "import numpy as np\n",
    "import matplotlib.pyplot as plt\n",
    "import seaborn as sns\n",
    "from pathlib import Path\n",
    "\n",
    "sns.set()"
   ]
  },
  {
   "cell_type": "markdown",
   "id": "87a09c50-9a54-4ddb-ab51-3049b7690748",
   "metadata": {},
   "source": [
    "# Reading data"
   ]
  },
  {
   "cell_type": "code",
   "execution_count": 18,
   "id": "5ca77be2838134",
   "metadata": {},
   "outputs": [],
   "source": [
    "base_dir = Path(\"./data/ceiling-structures/output/\")\n",
    "\n",
    "for i, pref_dir in enumerate(base_dir.glob(\"preferences_*\")):\n",
    "    dfs = []\n",
    "    if not pref_dir.is_dir():\n",
    "        continue\n",
    "    for csv_file in pref_dir.glob(\"*.csv\"):\n",
    "        df = pd.read_csv(csv_file, header=[0, 1], index_col=[0, 1])\n",
    "        dfs.append(df)\n",
    "\n",
    "    nan_counts = pd.DataFrame(0, index=dfs[0].index, columns=dfs[0].columns)\n",
    "    for df in dfs:\n",
    "        nan_counts += df.isna()\n",
    "\n",
    "    nan_counts.to_csv(base_dir / f\"nan_{i+1}.csv\")"
   ]
  },
  {
   "cell_type": "code",
   "execution_count": null,
   "id": "2d44b15f-7489-4ed5-8ead-21af0e40ffcb",
   "metadata": {},
   "outputs": [],
   "source": []
  }
 ],
 "metadata": {
  "kernelspec": {
   "display_name": "Python 3 (ipykernel)",
   "language": "python",
   "name": "python3"
  },
  "language_info": {
   "codemirror_mode": {
    "name": "ipython",
    "version": 3
   },
   "file_extension": ".py",
   "mimetype": "text/x-python",
   "name": "python",
   "nbconvert_exporter": "python",
   "pygments_lexer": "ipython3",
   "version": "3.12.9"
  }
 },
 "nbformat": 4,
 "nbformat_minor": 5
}
