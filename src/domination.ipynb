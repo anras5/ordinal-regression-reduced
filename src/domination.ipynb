{
 "cells": [
  {
   "cell_type": "code",
   "execution_count": 51,
   "id": "a99262b4-4bb7-42c1-8bdf-772bd6054354",
   "metadata": {},
   "outputs": [],
   "source": [
    "import argparse\n",
    "from collections import defaultdict\n",
    "from pathlib import Path\n",
    "from typing import List, Tuple\n",
    "\n",
    "import matplotlib.pyplot as plt\n",
    "import numpy as np\n",
    "import pandas as pd\n",
    "import seaborn as sns\n",
    "from joblib import Parallel, delayed\n",
    "from sklearn.decomposition import PCA, KernelPCA\n",
    "from sklearn.manifold import Isomap, LocallyLinearEmbedding\n",
    "from sklearn.pipeline import Pipeline\n",
    "from sklearn.preprocessing import StandardScaler\n",
    "\n",
    "from mcda.dataset import MCDADataset\n",
    "from mcda.report import calculate_heuristics\n",
    "from mcda.uta import Criterion, check_uta_feasibility\n",
    "from methods.mvu import MaximumVarianceUnfolding"
   ]
  },
  {
   "cell_type": "code",
   "execution_count": 111,
   "id": "28561c8a-19a6-4229-b2af-112173a0c12b",
   "metadata": {},
   "outputs": [],
   "source": [
    "dataset = MCDADataset.read_csv(\"./data/regions-italy/dataset.csv\")\n",
    "df = dataset.data"
   ]
  },
  {
   "cell_type": "code",
   "execution_count": 113,
   "id": "0011466d-e93d-4149-bdff-e6ee297b1572",
   "metadata": {},
   "outputs": [
    {
     "name": "stdout",
     "output_type": "stream",
     "text": [
      "Villa Castelli  >  San Vito dei Normanni\n",
      "Latiano  >  Ceglie Messapica\n",
      "Latiano  >  Cisternino\n",
      "Latiano  >  Ostuni\n",
      "San Michele Salentino  >  Francavilla Fontana\n",
      "San Michele Salentino  >  Ceglie Messapica\n",
      "San Michele Salentino  >  Cisternino\n",
      "San Michele Salentino  >  San Vito dei Normanni\n",
      "San Michele Salentino  >  Ostuni\n",
      "Oria  >  Francavilla Fontana\n",
      "Oria  >  Ceglie Messapica\n",
      "Oria  >  Cisternino\n",
      "Oria  >  Ostuni\n",
      "Francavilla Fontana  >  Ostuni\n",
      "Carovigno  >  Ostuni\n",
      "Torchiarolo  >  Mesagne\n",
      "San Pietro Vernotico  >  Mesagne\n",
      "Oryginalnie wszystkich dominacji: 17\n",
      "PCA         niespełnionych dominacji: 0\n",
      "KernelPCA   niespełnionych dominacji: 17\n",
      "LLE         niespełnionych dominacji: 17\n",
      "Isomap      niespełnionych dominacji: 14\n",
      "MVU         niespełnionych dominacji: 10\n"
     ]
    }
   ],
   "source": [
    "def is_dominating(a_values: List[float], b_values: List[float]) -> bool:\n",
    "    return all(a >= b for a, b in zip(a_values, b_values)) and any(a > b for a, b in zip(a_values, b_values))\n",
    "\n",
    "domination_org = []\n",
    "for alt_1 in df.index:\n",
    "    for alt_2 in df.index:\n",
    "        if alt_1 == alt_2:\n",
    "            continue\n",
    "\n",
    "        if is_dominating(df.loc[alt_1, :].tolist(), df.loc[alt_2, :].tolist()):\n",
    "            print(alt_1, \" > \", alt_2)\n",
    "            domination_org.append((alt_1, alt_2))\n",
    "\n",
    "print(f\"Oryginalnie wszystkich dominacji: {len(domination_org)}\")\n",
    "\n",
    "N = 2\n",
    "methods = {\n",
    "    \"PCA\": Pipeline([(\"scaler\", StandardScaler()), (\"pca\", PCA(n_components=N, random_state=42))]),\n",
    "    \"KernelPCA\": Pipeline([(\"scaler\", StandardScaler()), (\"kpca\", KernelPCA(n_components=N, random_state=42))]),\n",
    "    \"LLE\": Pipeline(\n",
    "        [(\"scaler\", StandardScaler()), (\"lle\", LocallyLinearEmbedding(n_components=N, random_state=42))]\n",
    "    ),\n",
    "    \"Isomap\": Pipeline([(\"scaler\", StandardScaler()), (\"isomap\", Isomap(n_components=N))]),\n",
    "    \"MVU\": Pipeline([(\"scaler\", StandardScaler()), (\"mvu\", MaximumVarianceUnfolding(n_components=N, seed=42))]),\n",
    "}\n",
    "\n",
    "pipeline = Pipeline([(\"scaler\", StandardScaler()), (\"pca\", PCA(n_components=2, random_state=42))])\n",
    "\n",
    "for method_name, method in methods.items():\n",
    "    df_m = pd.DataFrame(method.fit_transform(df), index=df.index, columns=[f\"Dim {i+1}\" for i in range(N)])\n",
    "    counter = 0\n",
    "    for alt_1, alt_2 in domination_org:\n",
    "        if not is_dominating(df_m.loc[alt_1, :].tolist(), df_m.loc[alt_2, :].tolist()):\n",
    "            # print(\"!!!\", alt_1, \" > \", alt_2)\n",
    "            counter += 1\n",
    "    print(f\"{method_name.ljust(12, ' ')}niespełnionych dominacji: {counter}\")"
   ]
  },
  {
   "cell_type": "code",
   "execution_count": null,
   "id": "a9a841b9-b35d-4f97-9c76-8b1bc6fc9fbe",
   "metadata": {},
   "outputs": [],
   "source": []
  }
 ],
 "metadata": {
  "kernelspec": {
   "display_name": "Python 3 (ipykernel)",
   "language": "python",
   "name": "python3"
  },
  "language_info": {
   "codemirror_mode": {
    "name": "ipython",
    "version": 3
   },
   "file_extension": ".py",
   "mimetype": "text/x-python",
   "name": "python",
   "nbconvert_exporter": "python",
   "pygments_lexer": "ipython3",
   "version": "3.12.9"
  }
 },
 "nbformat": 4,
 "nbformat_minor": 5
}
