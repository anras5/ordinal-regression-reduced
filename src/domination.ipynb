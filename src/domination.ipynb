{
 "cells": [
  {
   "cell_type": "code",
   "execution_count": 4,
   "id": "a99262b4-4bb7-42c1-8bdf-772bd6054354",
   "metadata": {},
   "outputs": [],
   "source": [
    "import argparse\n",
    "from collections import defaultdict\n",
    "from pathlib import Path\n",
    "from typing import List, Tuple\n",
    "\n",
    "import matplotlib.pyplot as plt\n",
    "import numpy as np\n",
    "import pandas as pd\n",
    "import seaborn as sns\n",
    "from joblib import Parallel, delayed\n",
    "from sklearn.decomposition import PCA, KernelPCA\n",
    "from sklearn.manifold import Isomap\n",
    "from sklearn.pipeline import Pipeline\n",
    "from sklearn.preprocessing import StandardScaler\n",
    "\n",
    "from mcda.dataset import MCDADataset\n",
    "from mcda.report import calculate_heuristics\n",
    "from mcda.uta import Criterion, check_uta_feasibility\n",
    "from methods.autoencoder import DominanceAutoEncoder\n",
    "from methods.mvu import MaximumVarianceUnfolding"
   ]
  },
  {
   "cell_type": "code",
   "execution_count": 8,
   "id": "28561c8a-19a6-4229-b2af-112173a0c12b",
   "metadata": {},
   "outputs": [],
   "source": [
    "dataset = MCDADataset.read_csv(\"./data/regions-italy/dataset.csv\")\n",
    "df = dataset.data"
   ]
  },
  {
   "cell_type": "code",
   "execution_count": 9,
   "id": "0011466d-e93d-4149-bdff-e6ee297b1572",
   "metadata": {},
   "outputs": [
    {
     "name": "stdout",
     "output_type": "stream",
     "text": [
      "a1  >  a10\n",
      "a2  >  a6\n",
      "a2  >  a7\n",
      "a2  >  a11\n",
      "a3  >  a5\n",
      "a3  >  a6\n",
      "a3  >  a7\n",
      "a3  >  a10\n",
      "a3  >  a11\n",
      "a4  >  a5\n",
      "a4  >  a6\n",
      "a4  >  a7\n",
      "a4  >  a11\n",
      "a5  >  a11\n",
      "a8  >  a11\n",
      "a15  >  a18\n",
      "a17  >  a18\n",
      "Oryginalnie wszystkich dominacji: 17\n",
      "PCA         niespełnionych dominacji: 0\n",
      "KernelPCA   niespełnionych dominacji: 9\n",
      "Isomap      niespełnionych dominacji: 14\n",
      "MVU         niespełnionych dominacji: 10\n",
      "DAE         niespełnionych dominacji: 0\n"
     ]
    }
   ],
   "source": [
    "def is_dominating(a_values: List[float], b_values: List[float]) -> bool:\n",
    "    return all(a >= b for a, b in zip(a_values, b_values)) and any(a > b for a, b in zip(a_values, b_values))\n",
    "\n",
    "\n",
    "domination_org = []\n",
    "for alt_1 in df.index:\n",
    "    for alt_2 in df.index:\n",
    "        if alt_1 == alt_2:\n",
    "            continue\n",
    "\n",
    "        if is_dominating(df.loc[alt_1, :].tolist(), df.loc[alt_2, :].tolist()):\n",
    "            print(alt_1, \" > \", alt_2)\n",
    "            domination_org.append((alt_1, alt_2))\n",
    "\n",
    "print(f\"Oryginalnie wszystkich dominacji: {len(domination_org)}\")\n",
    "\n",
    "N = 2\n",
    "methods = {\n",
    "    \"PCA\": Pipeline([(\"scaler\", StandardScaler()), (\"pca\", PCA(n_components=2, random_state=42))]),\n",
    "    \"KernelPCA\": Pipeline(\n",
    "        [(\"scaler\", StandardScaler()), (\"kpca\", KernelPCA(n_components=2, random_state=42, kernel=\"sigmoid\"))]\n",
    "    ),\n",
    "    \"Isomap\": Pipeline([(\"scaler\", StandardScaler()), (\"isomap\", Isomap(n_components=2))]),\n",
    "    \"MVU\": Pipeline([(\"scaler\", StandardScaler()), (\"mvu\", MaximumVarianceUnfolding(n_components=2, seed=42))]),\n",
    "    \"DAE\": Pipeline(\n",
    "        [\n",
    "            (\"scaler\", StandardScaler()),\n",
    "            (\"dae\", DominanceAutoEncoder(latent_dim=2, num_epochs=1000, random_state=42, verbose=False)),\n",
    "        ]\n",
    "    ),\n",
    "}\n",
    "for method_name, method in methods.items():\n",
    "    df_m = pd.DataFrame(method.fit_transform(df), index=df.index, columns=[f\"Dim {i + 1}\" for i in range(N)])\n",
    "    counter = 0\n",
    "    for alt_1, alt_2 in domination_org:\n",
    "        if not is_dominating(df_m.loc[alt_1, :].tolist(), df_m.loc[alt_2, :].tolist()):\n",
    "            # print(\"!!!\", alt_1, \" > \", alt_2)\n",
    "            counter += 1\n",
    "    print(f\"{method_name.ljust(12, ' ')}niespełnionych dominacji: {counter}\")"
   ]
  },
  {
   "cell_type": "code",
   "execution_count": null,
   "id": "a9a841b9-b35d-4f97-9c76-8b1bc6fc9fbe",
   "metadata": {},
   "outputs": [],
   "source": []
  }
 ],
 "metadata": {
  "kernelspec": {
   "display_name": "Python 3 (ipykernel)",
   "language": "python",
   "name": "python3"
  },
  "language_info": {
   "codemirror_mode": {
    "name": "ipython",
    "version": 3
   },
   "file_extension": ".py",
   "mimetype": "text/x-python",
   "name": "python",
   "nbconvert_exporter": "python",
   "pygments_lexer": "ipython3",
   "version": "3.12.9"
  }
 },
 "nbformat": 4,
 "nbformat_minor": 5
}
